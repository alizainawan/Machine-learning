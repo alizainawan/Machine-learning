{
 "cells": [
  {
   "cell_type": "markdown",
   "id": "a9fd7a53",
   "metadata": {},
   "source": [
    "# Import Libraries and Dataset "
   ]
  },
  {
   "cell_type": "code",
   "execution_count": 11,
   "id": "3cbfbc2e",
   "metadata": {},
   "outputs": [],
   "source": [
    "import tensorflow as tf\n",
    "import numpy as np\n",
    "import pandas as pd\n",
    "import matplotlib.pyplot as plt\n",
    "from sklearn.model_selection import train_test_split\n",
    "\n",
    "# Models Importing\n",
    "from sklearn.svm import SVR\n",
    "from sklearn.ensemble import RandomForestRegressor\n",
    "from sklearn.tree import DecisionTreeRegressor \n",
    "\n",
    "# For Model Evaluation\n",
    "from sklearn.metrics import classification_report,confusion_matrix,r2_score"
   ]
  },
  {
   "cell_type": "code",
   "execution_count": 5,
   "id": "c5b52dcf",
   "metadata": {},
   "outputs": [
    {
     "data": {
      "text/html": [
       "<div>\n",
       "<style scoped>\n",
       "    .dataframe tbody tr th:only-of-type {\n",
       "        vertical-align: middle;\n",
       "    }\n",
       "\n",
       "    .dataframe tbody tr th {\n",
       "        vertical-align: top;\n",
       "    }\n",
       "\n",
       "    .dataframe thead th {\n",
       "        text-align: right;\n",
       "    }\n",
       "</style>\n",
       "<table border=\"1\" class=\"dataframe\">\n",
       "  <thead>\n",
       "    <tr style=\"text-align: right;\">\n",
       "      <th></th>\n",
       "      <th>Time</th>\n",
       "      <th>train v(X)</th>\n",
       "      <th>train a(X)</th>\n",
       "      <th>Channel 1</th>\n",
       "      <th>Channel 2</th>\n",
       "      <th>Channel 3</th>\n",
       "      <th>Channel 4</th>\n",
       "      <th>train X</th>\n",
       "    </tr>\n",
       "  </thead>\n",
       "  <tbody>\n",
       "    <tr>\n",
       "      <th>0</th>\n",
       "      <td>0.000000</td>\n",
       "      <td>-0.454714</td>\n",
       "      <td>1.963586</td>\n",
       "      <td>0.026471</td>\n",
       "      <td>0.026471</td>\n",
       "      <td>0.026471</td>\n",
       "      <td>0.026471</td>\n",
       "      <td>241.159882</td>\n",
       "    </tr>\n",
       "    <tr>\n",
       "      <th>1</th>\n",
       "      <td>0.026471</td>\n",
       "      <td>-0.405668</td>\n",
       "      <td>1.871809</td>\n",
       "      <td>0.003965</td>\n",
       "      <td>0.010057</td>\n",
       "      <td>0.006667</td>\n",
       "      <td>0.004441</td>\n",
       "      <td>241.146545</td>\n",
       "    </tr>\n",
       "    <tr>\n",
       "      <th>2</th>\n",
       "      <td>0.027138</td>\n",
       "      <td>-0.404433</td>\n",
       "      <td>1.869498</td>\n",
       "      <td>0.007846</td>\n",
       "      <td>0.003048</td>\n",
       "      <td>0.001422</td>\n",
       "      <td>0.003487</td>\n",
       "      <td>241.146210</td>\n",
       "    </tr>\n",
       "    <tr>\n",
       "      <th>3</th>\n",
       "      <td>0.027804</td>\n",
       "      <td>-0.403198</td>\n",
       "      <td>1.867187</td>\n",
       "      <td>0.010596</td>\n",
       "      <td>0.004342</td>\n",
       "      <td>0.003526</td>\n",
       "      <td>0.005428</td>\n",
       "      <td>241.145874</td>\n",
       "    </tr>\n",
       "    <tr>\n",
       "      <th>4</th>\n",
       "      <td>0.028471</td>\n",
       "      <td>-0.401962</td>\n",
       "      <td>1.864875</td>\n",
       "      <td>0.000889</td>\n",
       "      <td>0.002077</td>\n",
       "      <td>0.001746</td>\n",
       "      <td>0.001384</td>\n",
       "      <td>241.145538</td>\n",
       "    </tr>\n",
       "    <tr>\n",
       "      <th>...</th>\n",
       "      <td>...</td>\n",
       "      <td>...</td>\n",
       "      <td>...</td>\n",
       "      <td>...</td>\n",
       "      <td>...</td>\n",
       "      <td>...</td>\n",
       "      <td>...</td>\n",
       "      <td>...</td>\n",
       "    </tr>\n",
       "    <tr>\n",
       "      <th>424034</th>\n",
       "      <td>279.964447</td>\n",
       "      <td>56.122330</td>\n",
       "      <td>-387.849701</td>\n",
       "      <td>0.006875</td>\n",
       "      <td>0.037238</td>\n",
       "      <td>0.013071</td>\n",
       "      <td>0.002354</td>\n",
       "      <td>259.427429</td>\n",
       "    </tr>\n",
       "    <tr>\n",
       "      <th>424035</th>\n",
       "      <td>279.965118</td>\n",
       "      <td>55.760689</td>\n",
       "      <td>-389.246521</td>\n",
       "      <td>0.008817</td>\n",
       "      <td>0.021545</td>\n",
       "      <td>0.008379</td>\n",
       "      <td>0.008647</td>\n",
       "      <td>259.476105</td>\n",
       "    </tr>\n",
       "    <tr>\n",
       "      <th>424036</th>\n",
       "      <td>279.965790</td>\n",
       "      <td>55.399048</td>\n",
       "      <td>-390.643372</td>\n",
       "      <td>0.003641</td>\n",
       "      <td>0.000297</td>\n",
       "      <td>0.005629</td>\n",
       "      <td>0.017869</td>\n",
       "      <td>259.524750</td>\n",
       "    </tr>\n",
       "    <tr>\n",
       "      <th>424037</th>\n",
       "      <td>279.966461</td>\n",
       "      <td>55.037407</td>\n",
       "      <td>-392.040192</td>\n",
       "      <td>0.000080</td>\n",
       "      <td>0.020845</td>\n",
       "      <td>0.007894</td>\n",
       "      <td>0.009133</td>\n",
       "      <td>259.573395</td>\n",
       "    </tr>\n",
       "    <tr>\n",
       "      <th>424038</th>\n",
       "      <td>279.967133</td>\n",
       "      <td>54.675770</td>\n",
       "      <td>-393.437012</td>\n",
       "      <td>0.003963</td>\n",
       "      <td>0.041554</td>\n",
       "      <td>0.000195</td>\n",
       "      <td>0.009942</td>\n",
       "      <td>259.622040</td>\n",
       "    </tr>\n",
       "  </tbody>\n",
       "</table>\n",
       "<p>424039 rows × 8 columns</p>\n",
       "</div>"
      ],
      "text/plain": [
       "              Time  train v(X)  train a(X)  Channel 1  Channel 2  Channel 3  \\\n",
       "0         0.000000   -0.454714    1.963586   0.026471   0.026471   0.026471   \n",
       "1         0.026471   -0.405668    1.871809   0.003965   0.010057   0.006667   \n",
       "2         0.027138   -0.404433    1.869498   0.007846   0.003048   0.001422   \n",
       "3         0.027804   -0.403198    1.867187   0.010596   0.004342   0.003526   \n",
       "4         0.028471   -0.401962    1.864875   0.000889   0.002077   0.001746   \n",
       "...            ...         ...         ...        ...        ...        ...   \n",
       "424034  279.964447   56.122330 -387.849701   0.006875   0.037238   0.013071   \n",
       "424035  279.965118   55.760689 -389.246521   0.008817   0.021545   0.008379   \n",
       "424036  279.965790   55.399048 -390.643372   0.003641   0.000297   0.005629   \n",
       "424037  279.966461   55.037407 -392.040192   0.000080   0.020845   0.007894   \n",
       "424038  279.967133   54.675770 -393.437012   0.003963   0.041554   0.000195   \n",
       "\n",
       "        Channel 4     train X  \n",
       "0        0.026471  241.159882  \n",
       "1        0.004441  241.146545  \n",
       "2        0.003487  241.146210  \n",
       "3        0.005428  241.145874  \n",
       "4        0.001384  241.145538  \n",
       "...           ...         ...  \n",
       "424034   0.002354  259.427429  \n",
       "424035   0.008647  259.476105  \n",
       "424036   0.017869  259.524750  \n",
       "424037   0.009133  259.573395  \n",
       "424038   0.009942  259.622040  \n",
       "\n",
       "[424039 rows x 8 columns]"
      ]
     },
     "execution_count": 5,
     "metadata": {},
     "output_type": "execute_result"
    }
   ],
   "source": [
    "data = pd.read_csv('regression.csv')\n",
    "data"
   ]
  },
  {
   "cell_type": "markdown",
   "id": "716964ef",
   "metadata": {},
   "source": [
    "**split data into x and y**"
   ]
  },
  {
   "cell_type": "code",
   "execution_count": 9,
   "id": "be219d50",
   "metadata": {},
   "outputs": [],
   "source": [
    "x=data.iloc[:5000,1:]\n",
    "y=data.iloc[:5000,0]"
   ]
  },
  {
   "cell_type": "code",
   "execution_count": 13,
   "id": "d3dd107f",
   "metadata": {},
   "outputs": [],
   "source": [
    "X_train, X_test, y_train, y_test = train_test_split(x, y, test_size=0.3, random_state=0)"
   ]
  },
  {
   "cell_type": "markdown",
   "id": "d1155e34",
   "metadata": {},
   "source": [
    "# Apply ML Models"
   ]
  },
  {
   "cell_type": "markdown",
   "id": "44db92e3",
   "metadata": {},
   "source": [
    "**DecisionTreeRegressor**"
   ]
  },
  {
   "cell_type": "code",
   "execution_count": 22,
   "id": "354f5a1d",
   "metadata": {},
   "outputs": [
    {
     "name": "stdout",
     "output_type": "stream",
     "text": [
      "DesicionTreeRegressor: 0.9957002347619203\n"
     ]
    }
   ],
   "source": [
    "dt=DecisionTreeRegressor()\n",
    "dt.fit(X_train,y_train)\n",
    "y_pred_dt=dt.predict(X_test)\n",
    "score_r2 = r2_score(y_test, y_pred_dt)\n",
    "print(\"DesicionTreeRegressor:\",score_r2)"
   ]
  },
  {
   "cell_type": "markdown",
   "id": "a77a7c0a",
   "metadata": {},
   "source": [
    "**SupportVectorMachineRegressor**"
   ]
  },
  {
   "cell_type": "code",
   "execution_count": 25,
   "id": "5b9a0798",
   "metadata": {},
   "outputs": [
    {
     "name": "stdout",
     "output_type": "stream",
     "text": [
      "SupportVectorMachineRegressor: 0.9244688582807659\n"
     ]
    }
   ],
   "source": [
    "sr=SVR()\n",
    "sr.fit(X_train,y_train)\n",
    "y_pred_sr=sr.predict(X_test)\n",
    "score_r2_sr = r2_score(y_test, y_pred_sr)\n",
    "print(\"SupportVectorMachineRegressor:\",score_r2_sr)"
   ]
  },
  {
   "cell_type": "code",
   "execution_count": null,
   "id": "96327ae4",
   "metadata": {},
   "outputs": [],
   "source": []
  },
  {
   "cell_type": "code",
   "execution_count": 26,
   "id": "aacd6442",
   "metadata": {},
   "outputs": [
    {
     "data": {
      "text/html": [
       "<div>\n",
       "<style scoped>\n",
       "    .dataframe tbody tr th:only-of-type {\n",
       "        vertical-align: middle;\n",
       "    }\n",
       "\n",
       "    .dataframe tbody tr th {\n",
       "        vertical-align: top;\n",
       "    }\n",
       "\n",
       "    .dataframe thead th {\n",
       "        text-align: right;\n",
       "    }\n",
       "</style>\n",
       "<table border=\"1\" class=\"dataframe\">\n",
       "  <thead>\n",
       "    <tr style=\"text-align: right;\">\n",
       "      <th>Metrics</th>\n",
       "      <th>Model Score</th>\n",
       "      <th>R2 Score</th>\n",
       "      <th>MSE</th>\n",
       "      <th>Model Accuracy</th>\n",
       "    </tr>\n",
       "  </thead>\n",
       "  <tbody>\n",
       "    <tr>\n",
       "      <th>SVR</th>\n",
       "      <td>0.924469</td>\n",
       "      <td>0.924469</td>\n",
       "      <td>0.924469</td>\n",
       "      <td>0.924469</td>\n",
       "    </tr>\n",
       "    <tr>\n",
       "      <th>DTR</th>\n",
       "      <td>0.995700</td>\n",
       "      <td>0.995700</td>\n",
       "      <td>0.995700</td>\n",
       "      <td>0.995700</td>\n",
       "    </tr>\n",
       "  </tbody>\n",
       "</table>\n",
       "</div>"
      ],
      "text/plain": [
       "Metrics  Model Score  R2 Score       MSE  Model Accuracy\n",
       "SVR         0.924469  0.924469  0.924469        0.924469\n",
       "DTR         0.995700  0.995700  0.995700        0.995700"
      ]
     },
     "execution_count": 26,
     "metadata": {},
     "output_type": "execute_result"
    }
   ],
   "source": [
    "from tabulate import tabulate\n",
    "# showing all models result\n",
    "dic = {\n",
    "    'Metrics':[\"Model Score\", \"R2 Score\", \"MSE\", \"Model Accuracy\"],\n",
    "    'SVR ':score_r2_sr,\n",
    "    'DTR':score_r2  \n",
    "}\n",
    "metrics_df = pd.DataFrame(dic)\n",
    "\n",
    "metrics_df = metrics_df.set_index('Metrics')\n",
    "\n",
    "# displaying the DataFrame\n",
    "metrics_df.T"
   ]
  },
  {
   "cell_type": "code",
   "execution_count": 31,
   "id": "71dc8650",
   "metadata": {},
   "outputs": [
    {
     "data": {
      "image/png": "[encoded data removed]",
      "text/plain": [
       "<Figure size 720x720 with 4 Axes>"
      ]
     },
     "metadata": {
      "needs_background": "light"
     },
     "output_type": "display_data"
    }
   ],
   "source": [
    "plt.figure(figsize = (10,10))\n",
    "for n, col in enumerate(metrics_df.T.columns):\n",
    "    plt.subplot(4, 1, n + 1)\n",
    "    models_acc   = metrics_df.iloc[n].tolist()\n",
    "    models_names = metrics_df.columns.tolist()\n",
    "    plt.bar(models_names, models_acc)\n",
    "    plt.xticks(rotation = 70)\n",
    "    plt.title(col, fontsize=18)\n",
    "\n",
    "    def addLabels(names,acc):\n",
    "        for i in range(len(names)):\n",
    "            plt.text(i,round(acc[i],2),f\"{round(acc[i],2)}%\", ha = 'center', bbox=dict(facecolor='yellow', alpha=0.9))\n",
    "\n",
    "    addLabels(models_names,models_acc)"
   ]
  },
  {
   "cell_type": "code",
   "execution_count": null,
   "id": "6e80fe22",
   "metadata": {},
   "outputs": [],
   "source": []
  },
  {
   "cell_type": "code",
   "execution_count": null,
   "id": "2ed82d24",
   "metadata": {},
   "outputs": [],
   "source": []
  },
  {
   "cell_type": "code",
   "execution_count": null,
   "id": "deb2ccc9",
   "metadata": {},
   "outputs": [],
   "source": []
  }
 ],
 "metadata": {
  "kernelspec": {
   "display_name": "Python 3 (ipykernel)",
   "language": "python",
   "name": "python3"
  },
  "language_info": {
   "codemirror_mode": {
    "name": "ipython",
    "version": 3
   },
   "file_extension": ".py",
   "mimetype": "text/x-python",
   "name": "python",
   "nbconvert_exporter": "python",
   "pygments_lexer": "ipython3",
   "version": "3.9.7"
  }
 },
 "nbformat": 4,
 "nbformat_minor": 5
}
